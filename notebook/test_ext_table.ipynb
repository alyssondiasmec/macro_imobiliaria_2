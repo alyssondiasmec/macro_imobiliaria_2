{
 "cells": [
  {
   "cell_type": "code",
   "execution_count": null,
   "metadata": {},
   "outputs": [],
   "source": [
    "import time\n",
    "\n",
    "from selenium import webdriver\n",
    "from selenium.webdriver.common.keys import Keys\n",
    "from selenium.webdriver.common.by import By\n",
    "from selenium.webdriver.support.wait import WebDriverWait\n",
    "from selenium.webdriver.support import expected_conditions as EC\n",
    "from selenium.common.exceptions import TimeoutException\n",
    "\n",
    "import pandas as pd\n",
    "import lxml"
   ]
  },
  {
   "attachments": {},
   "cell_type": "markdown",
   "metadata": {},
   "source": [
    "## Extração"
   ]
  },
  {
   "cell_type": "code",
   "execution_count": null,
   "metadata": {},
   "outputs": [],
   "source": [
    "url = 'http://erp.iy2b.com/systemakers/html/desktop/suite/000125/suite.html?&vh=S&vd=S&LM=1661250743000&CP=86dcb764ce31a132833a&TXCONFIG=asp-ebrsa#/tab_CalcBanda'\n",
    "\n",
    "driver = webdriver.Chrome('./chromedriver')\n",
    "driver.get(url)\n",
    "\n",
    "\n",
    "WebDriverWait(driver, timeout=10).until(\n",
    "    lambda d: d.find_element(By.NAME, 'user')\n",
    ")\n",
    "usr = driver.find_element(By.NAME, 'user')\n",
    "usr.send_keys('julianot')\n",
    "\n",
    "pwd = driver.find_element(By.NAME, 'pass')\n",
    "pwd.send_keys('jumaemp01')\n",
    "\n",
    "bt_login = driver.find_element(\n",
    "    By.ID, \"btnLogin\")\n",
    "bt_login.click()\n",
    "\n",
    "WebDriverWait(driver, timeout=10).until(\n",
    "    lambda d: d.find_element(\n",
    "        By.XPATH,\n",
    "        '//*[@id=\"suite-dashboard\"]/header/span[1]'\n",
    "    )\n",
    ")\n",
    "time.sleep(0.5)\n",
    "\n",
    "menu = driver.find_element(\n",
    "    By.XPATH,\n",
    "    '//*[@id=\"suite-dashboard\"]/header/span[1]'\n",
    ")\n",
    "menu.click()\n",
    "\n",
    "transactions = driver.find_element(\n",
    "    By.XPATH,\n",
    "    '//*[@id=\"suite-dashboard\"]/header/span[1]/div/div/div/div/div[2]/div/div/div[1]'\n",
    ")\n",
    "transactions.click()\n",
    "\n",
    "transactions = driver.find_element(\n",
    "    By.XPATH,\n",
    "    '//*[@id=\"suite-dashboard\"]/header/span[1]/div/div/div/div/div[2]/div/div/div[1]'\n",
    ")\n",
    "transactions.click()\n",
    "\n",
    "\n",
    "search = driver.find_element(\n",
    "    By.XPATH,\n",
    "    '//*[@id=\"s2id_autogen1\"]'\n",
    ")\n",
    "search.send_keys('dashboard loca')\n",
    "\n",
    "WebDriverWait(driver, timeout=10).until(\n",
    "    lambda d: d.find_element(\n",
    "        By.XPATH,\n",
    "        '/html/body/div[19]/ul/li[1]'\n",
    "    )\n",
    ")\n",
    "time.sleep(0.5)\n",
    "\n",
    "result0 = driver.find_element(\n",
    "    By.XPATH,\n",
    "    '/html/body/div[19]/ul/li[1]'\n",
    ")\n",
    "result0.click()\n",
    "\n",
    "WebDriverWait(driver, timeout=20).until(\n",
    "    lambda d: d.find_element(\n",
    "        By.TAG_NAME,\n",
    "        'iframe'\n",
    "    )\n",
    ")\n",
    "driver.switch_to.frame(driver.find_elements(By.TAG_NAME, \"iframe\")[0])\n",
    "\n",
    "WebDriverWait(driver, timeout=20).until(\n",
    "    lambda d: d.find_element(\n",
    "        By.TAG_NAME,\n",
    "        'iframe'\n",
    "    )\n",
    ")\n",
    "\n",
    "iframes = driver.find_elements(By.TAG_NAME, 'iframe')\n",
    "print(len(iframes))\n",
    "print()\n",
    "# print(dir(iframes[0]))\n",
    "for idi, iframe in enumerate(iframes):\n",
    "    driver.switch_to.default_content()\n",
    "    driver.switch_to.frame(driver.find_elements(By.TAG_NAME, \"iframe\")[0])\n",
    "    driver.switch_to.frame(iframe)\n",
    "    print(idi)\n",
    "    time.sleep(2)\n",
    "    try:\n",
    "        table = driver.find_element(\n",
    "            By.TAG_NAME,\n",
    "            'table'\n",
    "        )\n",
    "        # print(dir(table))\n",
    "\n",
    "        df_html = pd.read_html(table.get_attribute('outerHTML'))[0]\n",
    "        df_html.to_csv(f'data_{idi}.csv', index=False)\n",
    "        \n",
    "        # with open(f'iframe_{idi}.txt', 'w') as f:\n",
    "        #     f.write(table.text)\n",
    "    except Exception as e:\n",
    "        # print(e)\n",
    "        print('not found')\n",
    "    \n",
    "    print()\n",
    "    "
   ]
  },
  {
   "attachments": {},
   "cell_type": "markdown",
   "metadata": {},
   "source": [
    "## TESTE"
   ]
  },
  {
   "cell_type": "code",
   "execution_count": null,
   "metadata": {},
   "outputs": [],
   "source": [
    "driver.switch_to.default_content()\n",
    "driver.switch_to.frame(driver.find_elements(By.TAG_NAME, \"iframe\")[0])\n",
    "driver.switch_to.frame(driver.find_elements(By.TAG_NAME, \"iframe\")[11])\n",
    "\n",
    "table = driver.find_element(\n",
    "    By.TAG_NAME,\n",
    "    'table'\n",
    ")\n",
    "\n",
    "df_html = pd.read_html(table.get_attribute('outerHTML'))[0]\n",
    "df_html.to_csv('data.csv', index=False)"
   ]
  },
  {
   "cell_type": "code",
   "execution_count": null,
   "metadata": {},
   "outputs": [],
   "source": [
    "df_html.head()"
   ]
  },
  {
   "cell_type": "code",
   "execution_count": null,
   "metadata": {},
   "outputs": [],
   "source": []
  }
 ],
 "metadata": {
  "kernelspec": {
   "display_name": "imob",
   "language": "python",
   "name": "python3"
  },
  "language_info": {
   "codemirror_mode": {
    "name": "ipython",
    "version": 3
   },
   "file_extension": ".py",
   "mimetype": "text/x-python",
   "name": "python",
   "nbconvert_exporter": "python",
   "pygments_lexer": "ipython3",
   "version": "3.10.8"
  },
  "orig_nbformat": 4,
  "vscode": {
   "interpreter": {
    "hash": "8579c1b8f73417e1afb0d26b8f858cdb88672b2132c896f4a279f4dbe96fa854"
   }
  }
 },
 "nbformat": 4,
 "nbformat_minor": 2
}
